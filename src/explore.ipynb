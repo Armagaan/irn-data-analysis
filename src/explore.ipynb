{
 "cells": [
  {
   "cell_type": "markdown",
   "metadata": {},
   "source": [
    "# Data Analysis of the IRN"
   ]
  },
  {
   "cell_type": "code",
   "execution_count": 98,
   "metadata": {},
   "outputs": [],
   "source": [
    "import typing\n",
    "\n",
    "import matplotlib.pyplot as plt\n",
    "import networkx as nx\n",
    "import numpy as np\n",
    "import pandas as pd\n",
    "\n",
    "np.random.seed(7)"
   ]
  },
  {
   "cell_type": "markdown",
   "metadata": {},
   "source": [
    "## Preprocessing the table"
   ]
  },
  {
   "cell_type": "code",
   "execution_count": 118,
   "metadata": {},
   "outputs": [
    {
     "name": "stderr",
     "output_type": "stream",
     "text": [
      "/tmp/ipykernel_660056/2682166886.py:2: DtypeWarning: Columns (0,2,7) have mixed types. Specify dtype option on import or set low_memory=False.\n",
      "  df = pd.read_csv(PATH, header=0)\n"
     ]
    }
   ],
   "source": [
    "PATH = \"../data/Train_details_22122017.csv\"\n",
    "df = pd.read_csv(PATH, header=0)"
   ]
  },
  {
   "cell_type": "code",
   "execution_count": 120,
   "metadata": {},
   "outputs": [
    {
     "name": "stdout",
     "output_type": "stream",
     "text": [
      "Rows with at least one NA value: 10\n"
     ]
    }
   ],
   "source": [
    "print(\"Rows with at least one NA value:\", df.isna().any(axis=1).value_counts()[True])"
   ]
  },
  {
   "cell_type": "code",
   "execution_count": 121,
   "metadata": {},
   "outputs": [],
   "source": [
    "# Since this is a small number, we can just drop these rows.\n",
    "df.dropna(inplace=True, how=\"any\")\n",
    "# Reset the index as dropping rows deletes the index values creating jumps.\n",
    "# If row 2 were deleted. The index would be 0, 1, 3, 4, ...\n",
    "df.reset_index(drop=True, inplace=True)"
   ]
  },
  {
   "cell_type": "code",
   "execution_count": 122,
   "metadata": {},
   "outputs": [
    {
     "data": {
      "text/html": [
       "<div>\n",
       "<style scoped>\n",
       "    .dataframe tbody tr th:only-of-type {\n",
       "        vertical-align: middle;\n",
       "    }\n",
       "\n",
       "    .dataframe tbody tr th {\n",
       "        vertical-align: top;\n",
       "    }\n",
       "\n",
       "    .dataframe thead th {\n",
       "        text-align: right;\n",
       "    }\n",
       "</style>\n",
       "<table border=\"1\" class=\"dataframe\">\n",
       "  <thead>\n",
       "    <tr style=\"text-align: right;\">\n",
       "      <th></th>\n",
       "      <th>Train No</th>\n",
       "      <th>Train Name</th>\n",
       "      <th>SEQ</th>\n",
       "      <th>Station Code</th>\n",
       "      <th>Station Name</th>\n",
       "      <th>Arrival time</th>\n",
       "      <th>Departure Time</th>\n",
       "      <th>Distance</th>\n",
       "      <th>Source Station</th>\n",
       "      <th>Source Station Name</th>\n",
       "      <th>Destination Station</th>\n",
       "      <th>Destination Station Name</th>\n",
       "    </tr>\n",
       "  </thead>\n",
       "  <tbody>\n",
       "    <tr>\n",
       "      <th>0</th>\n",
       "      <td>107</td>\n",
       "      <td>SWV-MAO-VLNK</td>\n",
       "      <td>1</td>\n",
       "      <td>SWV</td>\n",
       "      <td>SAWANTWADI R</td>\n",
       "      <td>0:00:00</td>\n",
       "      <td>10:25:00</td>\n",
       "      <td>0</td>\n",
       "      <td>SWV</td>\n",
       "      <td>SAWANTWADI ROAD</td>\n",
       "      <td>MAO</td>\n",
       "      <td>MADGOAN JN.</td>\n",
       "    </tr>\n",
       "    <tr>\n",
       "      <th>1</th>\n",
       "      <td>107</td>\n",
       "      <td>SWV-MAO-VLNK</td>\n",
       "      <td>2</td>\n",
       "      <td>THVM</td>\n",
       "      <td>THIVIM</td>\n",
       "      <td>11:06:00</td>\n",
       "      <td>11:08:00</td>\n",
       "      <td>32</td>\n",
       "      <td>SWV</td>\n",
       "      <td>SAWANTWADI ROAD</td>\n",
       "      <td>MAO</td>\n",
       "      <td>MADGOAN JN.</td>\n",
       "    </tr>\n",
       "    <tr>\n",
       "      <th>2</th>\n",
       "      <td>107</td>\n",
       "      <td>SWV-MAO-VLNK</td>\n",
       "      <td>3</td>\n",
       "      <td>KRMI</td>\n",
       "      <td>KARMALI</td>\n",
       "      <td>11:28:00</td>\n",
       "      <td>11:30:00</td>\n",
       "      <td>49</td>\n",
       "      <td>SWV</td>\n",
       "      <td>SAWANTWADI ROAD</td>\n",
       "      <td>MAO</td>\n",
       "      <td>MADGOAN JN.</td>\n",
       "    </tr>\n",
       "    <tr>\n",
       "      <th>3</th>\n",
       "      <td>107</td>\n",
       "      <td>SWV-MAO-VLNK</td>\n",
       "      <td>4</td>\n",
       "      <td>MAO</td>\n",
       "      <td>MADGOAN JN.</td>\n",
       "      <td>12:10:00</td>\n",
       "      <td>0:00:00</td>\n",
       "      <td>78</td>\n",
       "      <td>SWV</td>\n",
       "      <td>SAWANTWADI ROAD</td>\n",
       "      <td>MAO</td>\n",
       "      <td>MADGOAN JN.</td>\n",
       "    </tr>\n",
       "    <tr>\n",
       "      <th>4</th>\n",
       "      <td>108</td>\n",
       "      <td>VLNK-MAO-SWV</td>\n",
       "      <td>1</td>\n",
       "      <td>MAO</td>\n",
       "      <td>MADGOAN JN.</td>\n",
       "      <td>0:00:00</td>\n",
       "      <td>20:30:00</td>\n",
       "      <td>0</td>\n",
       "      <td>MAO</td>\n",
       "      <td>MADGOAN JN.</td>\n",
       "      <td>SWV</td>\n",
       "      <td>SAWANTWADI ROAD</td>\n",
       "    </tr>\n",
       "  </tbody>\n",
       "</table>\n",
       "</div>"
      ],
      "text/plain": [
       "  Train No    Train Name SEQ Station Code  Station Name Arrival time  \\\n",
       "0      107  SWV-MAO-VLNK   1          SWV  SAWANTWADI R      0:00:00   \n",
       "1      107  SWV-MAO-VLNK   2         THVM        THIVIM     11:06:00   \n",
       "2      107  SWV-MAO-VLNK   3         KRMI       KARMALI     11:28:00   \n",
       "3      107  SWV-MAO-VLNK   4          MAO   MADGOAN JN.     12:10:00   \n",
       "4      108  VLNK-MAO-SWV   1          MAO   MADGOAN JN.      0:00:00   \n",
       "\n",
       "  Departure Time Distance Source Station Source Station Name  \\\n",
       "0       10:25:00        0            SWV     SAWANTWADI ROAD   \n",
       "1       11:08:00       32            SWV     SAWANTWADI ROAD   \n",
       "2       11:30:00       49            SWV     SAWANTWADI ROAD   \n",
       "3        0:00:00       78            SWV     SAWANTWADI ROAD   \n",
       "4       20:30:00        0            MAO         MADGOAN JN.   \n",
       "\n",
       "  Destination Station Destination Station Name  \n",
       "0                 MAO              MADGOAN JN.  \n",
       "1                 MAO              MADGOAN JN.  \n",
       "2                 MAO              MADGOAN JN.  \n",
       "3                 MAO              MADGOAN JN.  \n",
       "4                 SWV          SAWANTWADI ROAD  "
      ]
     },
     "execution_count": 122,
     "metadata": {},
     "output_type": "execute_result"
    }
   ],
   "source": [
    "df.head()"
   ]
  },
  {
   "cell_type": "code",
   "execution_count": 123,
   "metadata": {},
   "outputs": [],
   "source": [
    "# Change int columns to have int datatype\n",
    "df = df.astype({\n",
    "    \"Train No\": int,\n",
    "    \"SEQ\": int,\n",
    "    \"Distance\": int\n",
    "})\n",
    "# Change time columns to have time datatype\n",
    "df[\"Arrival time\"] = pd.to_datetime(df[\"Arrival time\"], format=\"%H:%M:%S\").dt.time\n",
    "df[\"Departure Time\"] = pd.to_datetime(df[\"Departure Time\"], format=\"%H:%M:%S\").dt.time"
   ]
  },
  {
   "cell_type": "markdown",
   "metadata": {},
   "source": [
    "## Extract graph"
   ]
  },
  {
   "cell_type": "code",
   "execution_count": 124,
   "metadata": {},
   "outputs": [],
   "source": [
    "def generate_graph(dataframe: pd.DataFrame, distance_weighted: bool = False) -> nx.DiGraph:\n",
    "    # Create an empty directed graph.\n",
    "    graph = nx.DiGraph()\n",
    "    # Iterate over the \"Station Code\" series. Skip the first station.\n",
    "    for i in range(1, dataframe[\"Station Code\"].shape[0]):\n",
    "        # Get the current and previous station.\n",
    "        current_station = dataframe[\"Station Code\"][i]\n",
    "        previous_station = dataframe[\"Station Code\"][i - 1]\n",
    "\n",
    "        # If the train no. doesn't match between the two stations, ignore.\n",
    "        if dataframe[\"Train No\"][i] != dataframe[\"Train No\"][i - 1]:\n",
    "            continue\n",
    "\n",
    "        # Set the edge weight to the distance between the current station\n",
    "        # and the previous station if using distance as the edge weight.\n",
    "        # Set the edge weight to 1 if using #trains as weights.\n",
    "        edge_weight = dataframe[\"Distance\"][i] if distance_weighted else 1\n",
    "\n",
    "        # If no edge exists:\n",
    "        if not graph.has_edge(previous_station, current_station):\n",
    "            # Add an edge and set the appropriate weight.\n",
    "            graph.add_edge(previous_station, current_station, weight=edge_weight)\n",
    "        # Else, increment the weight if edge weight is #trains.\n",
    "        else:\n",
    "            if not distance_weighted:\n",
    "                graph.edges[previous_station, current_station][\"weight\"] += edge_weight\n",
    "    return graph"
   ]
  },
  {
   "cell_type": "code",
   "execution_count": 128,
   "metadata": {},
   "outputs": [
    {
     "name": "stdout",
     "output_type": "stream",
     "text": [
      "DiGraph with 8147 nodes and 28189 edges\n"
     ]
    }
   ],
   "source": [
    "irn = generate_graph(dataframe=df, distance_weighted=False)\n",
    "print(irn)"
   ]
  },
  {
   "cell_type": "code",
   "execution_count": 129,
   "metadata": {},
   "outputs": [
    {
     "name": "stdout",
     "output_type": "stream",
     "text": [
      "DiGraph with 8147 nodes and 28189 edges\n"
     ]
    }
   ],
   "source": [
    "irn_dist = generate_graph(dataframe=df, distance_weighted=True)\n",
    "print(irn_dist)"
   ]
  },
  {
   "cell_type": "markdown",
   "metadata": {},
   "source": [
    "## Exploratory analysis"
   ]
  },
  {
   "cell_type": "code",
   "execution_count": null,
   "metadata": {},
   "outputs": [],
   "source": []
  }
 ],
 "metadata": {
  "kernelspec": {
   "display_name": "irn",
   "language": "python",
   "name": "python3"
  },
  "language_info": {
   "codemirror_mode": {
    "name": "ipython",
    "version": 3
   },
   "file_extension": ".py",
   "mimetype": "text/x-python",
   "name": "python",
   "nbconvert_exporter": "python",
   "pygments_lexer": "ipython3",
   "version": "3.11.5"
  }
 },
 "nbformat": 4,
 "nbformat_minor": 2
}
